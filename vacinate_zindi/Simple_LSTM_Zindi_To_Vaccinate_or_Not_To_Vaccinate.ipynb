{
  "nbformat": 4,
  "nbformat_minor": 0,
  "metadata": {
    "colab": {
      "name": "Simple LSTM Zindi To Vaccinate or Not To Vaccinate.ipynb",
      "provenance": [],
      "collapsed_sections": []
    },
    "kernelspec": {
      "name": "python3",
      "display_name": "Python 3"
    }
  },
  "cells": [
    {
      "cell_type": "markdown",
      "metadata": {
        "id": "OcTKuqStsEpO"
      },
      "source": [
        "In this Notebook we'll be developing a machine learning model to assess if a Twitter post related to vaccinations is positive, neutral, or negative. This solution could help governments and other public health actors monitor public sentiment towards COVID-19 vaccinations and help improve public health policy, vaccine communication strategies, and vaccination programs across the world.\r\n",
        "We will start very simple to understand the general concepts whilst not really caring about good results."
      ]
    },
    {
      "cell_type": "markdown",
      "metadata": {
        "id": "yB6wYNwasNg6"
      },
      "source": [
        "# Load Libraries"
      ]
    },
    {
      "cell_type": "code",
      "metadata": {
        "colab": {
          "base_uri": "https://localhost:8080/"
        },
        "id": "6dl26idRrpiU",
        "outputId": "3b3e1120-938a-4484-df00-bceb9b5fa197"
      },
      "source": [
        "import numpy as np # linear algebra\r\n",
        "import pandas as pd # data processing, CSV file I/O (e.g. pd.read_csv)\r\n",
        "import warnings\r\n",
        "warnings.filterwarnings('ignore')\r\n",
        "import seaborn as sns\r\n",
        "from sklearn.model_selection import train_test_split\r\n",
        "from tensorflow.keras.utils import to_categorical\r\n",
        "from tensorflow.keras.preprocessing.text import Tokenizer\r\n",
        "from tensorflow.keras.preprocessing.sequence import pad_sequences\r\n",
        "import tensorflow as tf\r\n",
        "import time \r\n",
        "import re\r\n",
        "# Natural Language Tool Kit \r\n",
        "import nltk  \r\n",
        "nltk.download('stopwords') \r\n",
        "from nltk.corpus import stopwords "
      ],
      "execution_count": 1,
      "outputs": [
        {
          "output_type": "stream",
          "text": [
            "[nltk_data] Downloading package stopwords to /root/nltk_data...\n",
            "[nltk_data]   Unzipping corpora/stopwords.zip.\n"
          ],
          "name": "stdout"
        }
      ]
    },
    {
      "cell_type": "markdown",
      "metadata": {
        "id": "Y9rdkQ_pyuMc"
      },
      "source": [
        "## 2. Load Data"
      ]
    },
    {
      "cell_type": "code",
      "metadata": {
        "id": "lyT66KYUyFXd"
      },
      "source": [
        "train = pd.read_csv(\"/content/Train.csv\")\r\n",
        "test = pd.read_csv(\"/Test.csv\")"
      ],
      "execution_count": 4,
      "outputs": []
    },
    {
      "cell_type": "code",
      "metadata": {
        "colab": {
          "base_uri": "https://localhost:8080/",
          "height": 199
        },
        "id": "BCWVRQ6Bz5EV",
        "outputId": "9ddc76be-7b15-4dac-b468-6e83e3292744"
      },
      "source": [
        "train.head()"
      ],
      "execution_count": 5,
      "outputs": [
        {
          "output_type": "execute_result",
          "data": {
            "text/html": [
              "<div>\n",
              "<style scoped>\n",
              "    .dataframe tbody tr th:only-of-type {\n",
              "        vertical-align: middle;\n",
              "    }\n",
              "\n",
              "    .dataframe tbody tr th {\n",
              "        vertical-align: top;\n",
              "    }\n",
              "\n",
              "    .dataframe thead th {\n",
              "        text-align: right;\n",
              "    }\n",
              "</style>\n",
              "<table border=\"1\" class=\"dataframe\">\n",
              "  <thead>\n",
              "    <tr style=\"text-align: right;\">\n",
              "      <th></th>\n",
              "      <th>tweet_id</th>\n",
              "      <th>safe_text</th>\n",
              "      <th>label</th>\n",
              "      <th>agreement</th>\n",
              "    </tr>\n",
              "  </thead>\n",
              "  <tbody>\n",
              "    <tr>\n",
              "      <th>0</th>\n",
              "      <td>CL1KWCMY</td>\n",
              "      <td>Me &amp;amp; The Big Homie meanboy3000 #MEANBOY #M...</td>\n",
              "      <td>0.0</td>\n",
              "      <td>1.0</td>\n",
              "    </tr>\n",
              "    <tr>\n",
              "      <th>1</th>\n",
              "      <td>E3303EME</td>\n",
              "      <td>I'm 100% thinking of devoting my career to pro...</td>\n",
              "      <td>1.0</td>\n",
              "      <td>1.0</td>\n",
              "    </tr>\n",
              "    <tr>\n",
              "      <th>2</th>\n",
              "      <td>M4IVFSMS</td>\n",
              "      <td>#whatcausesautism VACCINES, DO NOT VACCINATE Y...</td>\n",
              "      <td>-1.0</td>\n",
              "      <td>1.0</td>\n",
              "    </tr>\n",
              "    <tr>\n",
              "      <th>3</th>\n",
              "      <td>1DR6ROZ4</td>\n",
              "      <td>I mean if they immunize my kid with something ...</td>\n",
              "      <td>-1.0</td>\n",
              "      <td>1.0</td>\n",
              "    </tr>\n",
              "    <tr>\n",
              "      <th>4</th>\n",
              "      <td>J77ENIIE</td>\n",
              "      <td>Thanks to &lt;user&gt; Catch me performing at La Nui...</td>\n",
              "      <td>0.0</td>\n",
              "      <td>1.0</td>\n",
              "    </tr>\n",
              "  </tbody>\n",
              "</table>\n",
              "</div>"
            ],
            "text/plain": [
              "   tweet_id  ... agreement\n",
              "0  CL1KWCMY  ...       1.0\n",
              "1  E3303EME  ...       1.0\n",
              "2  M4IVFSMS  ...       1.0\n",
              "3  1DR6ROZ4  ...       1.0\n",
              "4  J77ENIIE  ...       1.0\n",
              "\n",
              "[5 rows x 4 columns]"
            ]
          },
          "metadata": {
            "tags": []
          },
          "execution_count": 5
        }
      ]
    },
    {
      "cell_type": "code",
      "metadata": {
        "colab": {
          "base_uri": "https://localhost:8080/",
          "height": 199
        },
        "id": "z4GcSIEU07BI",
        "outputId": "ead82c64-f43c-432b-d92e-ef53c75a7340"
      },
      "source": [
        "test.head()"
      ],
      "execution_count": 6,
      "outputs": [
        {
          "output_type": "execute_result",
          "data": {
            "text/html": [
              "<div>\n",
              "<style scoped>\n",
              "    .dataframe tbody tr th:only-of-type {\n",
              "        vertical-align: middle;\n",
              "    }\n",
              "\n",
              "    .dataframe tbody tr th {\n",
              "        vertical-align: top;\n",
              "    }\n",
              "\n",
              "    .dataframe thead th {\n",
              "        text-align: right;\n",
              "    }\n",
              "</style>\n",
              "<table border=\"1\" class=\"dataframe\">\n",
              "  <thead>\n",
              "    <tr style=\"text-align: right;\">\n",
              "      <th></th>\n",
              "      <th>tweet_id</th>\n",
              "      <th>safe_text</th>\n",
              "    </tr>\n",
              "  </thead>\n",
              "  <tbody>\n",
              "    <tr>\n",
              "      <th>0</th>\n",
              "      <td>00BHHHP1</td>\n",
              "      <td>&lt;user&gt; &lt;user&gt; ... &amp;amp; 4 a vaccine given 2 he...</td>\n",
              "    </tr>\n",
              "    <tr>\n",
              "      <th>1</th>\n",
              "      <td>00UNMD0E</td>\n",
              "      <td>Students starting school without whooping coug...</td>\n",
              "    </tr>\n",
              "    <tr>\n",
              "      <th>2</th>\n",
              "      <td>01AXPTJF</td>\n",
              "      <td>I'm kinda over every ep of &lt;user&gt; being \"rippe...</td>\n",
              "    </tr>\n",
              "    <tr>\n",
              "      <th>3</th>\n",
              "      <td>01HOEQJW</td>\n",
              "      <td>How many innocent children die for lack of vac...</td>\n",
              "    </tr>\n",
              "    <tr>\n",
              "      <th>4</th>\n",
              "      <td>01JUKMAO</td>\n",
              "      <td>CDC eyeing bird flu vaccine for humans, though...</td>\n",
              "    </tr>\n",
              "  </tbody>\n",
              "</table>\n",
              "</div>"
            ],
            "text/plain": [
              "   tweet_id                                          safe_text\n",
              "0  00BHHHP1  <user> <user> ... &amp; 4 a vaccine given 2 he...\n",
              "1  00UNMD0E  Students starting school without whooping coug...\n",
              "2  01AXPTJF  I'm kinda over every ep of <user> being \"rippe...\n",
              "3  01HOEQJW  How many innocent children die for lack of vac...\n",
              "4  01JUKMAO  CDC eyeing bird flu vaccine for humans, though..."
            ]
          },
          "metadata": {
            "tags": []
          },
          "execution_count": 6
        }
      ]
    },
    {
      "cell_type": "code",
      "metadata": {
        "colab": {
          "base_uri": "https://localhost:8080/"
        },
        "id": "YdfNIqv31DuV",
        "outputId": "a4cd5d56-9699-4086-8808-56cbf489fab5"
      },
      "source": [
        "train['label'].value_counts()"
      ],
      "execution_count": 7,
      "outputs": [
        {
          "output_type": "execute_result",
          "data": {
            "text/plain": [
              " 0.000000    4908\n",
              " 1.000000    4053\n",
              "-1.000000    1038\n",
              " 0.666667       1\n",
              "Name: label, dtype: int64"
            ]
          },
          "metadata": {
            "tags": []
          },
          "execution_count": 7
        }
      ]
    },
    {
      "cell_type": "markdown",
      "metadata": {
        "id": "Cj__icls1TLk"
      },
      "source": [
        "## 2. Cleaning Data\r\n",
        "- ensuring it is a string\r\n",
        "- converting capital letters to small letters\r\n",
        "- removing characters and replacing them with space\r\n",
        "- removing  of punctuations marks"
      ]
    },
    {
      "cell_type": "code",
      "metadata": {
        "id": "WqBf2gC61K_U"
      },
      "source": [
        "train['safe_text'] = train['safe_text'].apply(str)\r\n",
        "test['safe_text'] = test['safe_text'].apply(str)"
      ],
      "execution_count": 8,
      "outputs": []
    },
    {
      "cell_type": "code",
      "metadata": {
        "id": "5-v0T8c81sCJ"
      },
      "source": [
        "train['safe_text'] = train['safe_text'].apply(str.lower)\r\n",
        "test['safe_text'] = test['safe_text'].apply(str.lower)"
      ],
      "execution_count": 9,
      "outputs": []
    },
    {
      "cell_type": "code",
      "metadata": {
        "id": "voVJ4uRy1_Pe"
      },
      "source": [
        "train['safe_text'] = train['safe_text'].apply(lambda x: x.replace('&amp;', ' '))\r\n",
        "test['safe_text'] = test['safe_text'].apply(lambda x: x.replace('&amp;', ' '))"
      ],
      "execution_count": 10,
      "outputs": []
    },
    {
      "cell_type": "code",
      "metadata": {
        "id": "TBTpseT52IIQ"
      },
      "source": [
        "train['safe_text'] = train['safe_text'].apply(lambda x: x.replace('<user>', ' '))\r\n",
        "test['safe_text'] = test['safe_text'].apply(lambda x: x.replace('<user>', ' '))"
      ],
      "execution_count": 11,
      "outputs": []
    },
    {
      "cell_type": "code",
      "metadata": {
        "id": "SxEa0KbM2UXj"
      },
      "source": [
        "train['safe_text'] = train['safe_text'].apply(lambda x: x.replace('<url>', ' '))\r\n",
        "test['safe_text'] = test['safe_text'].apply(lambda x: x.replace('<url>', ' '))"
      ],
      "execution_count": 13,
      "outputs": []
    },
    {
      "cell_type": "code",
      "metadata": {
        "id": "CenoeJMN2jQh"
      },
      "source": [
        "train['safe_text'] = train['safe_text'].apply(lambda x: x.replace('#', ' '))\r\n",
        "test['safe_text'] = test['safe_text'].apply(lambda x: x.replace('#', ' '))"
      ],
      "execution_count": 14,
      "outputs": []
    },
    {
      "cell_type": "code",
      "metadata": {
        "id": "VV0Lltja24xY"
      },
      "source": [
        "train['safe_text'] = train['safe_text'].apply(lambda x: x.strip('.').strip())\r\n",
        "test['safe_text'] = test['safe_text'].apply(lambda x: x.strip('.').strip())"
      ],
      "execution_count": 15,
      "outputs": []
    },
    {
      "cell_type": "code",
      "metadata": {
        "colab": {
          "base_uri": "https://localhost:8080/"
        },
        "id": "tbAMqu-M3YYc",
        "outputId": "9515134d-00ee-4fa8-cb86-e570b65295a4"
      },
      "source": [
        "train[\"label\"].unique()"
      ],
      "execution_count": 20,
      "outputs": [
        {
          "output_type": "execute_result",
          "data": {
            "text/plain": [
              "array([ 0.        ,  1.        , -1.        ,         nan,  0.66666667])"
            ]
          },
          "metadata": {
            "tags": []
          },
          "execution_count": 20
        }
      ]
    },
    {
      "cell_type": "markdown",
      "metadata": {
        "id": "ABsXFKAJ3JTc"
      },
      "source": [
        "we only have one row with label 0.6667 and no agreement, so we would be dropping the row"
      ]
    },
    {
      "cell_type": "code",
      "metadata": {
        "id": "ARTbuWi22_u3"
      },
      "source": [
        "train.drop(index=[4798, 4799], inplace=True)\r\n",
        "train.reset_index(drop=True, inplace=True)"
      ],
      "execution_count": 21,
      "outputs": []
    },
    {
      "cell_type": "code",
      "metadata": {
        "id": "CPdhDQ-54jAm"
      },
      "source": [
        "train.dropna(inplace=True)"
      ],
      "execution_count": 23,
      "outputs": []
    },
    {
      "cell_type": "code",
      "metadata": {
        "colab": {
          "base_uri": "https://localhost:8080/"
        },
        "id": "6F1xtrMi4sIC",
        "outputId": "9d6d8c5e-d5c8-4b66-97e1-51aba7d7a6a3"
      },
      "source": [
        "train[\"label\"].unique()"
      ],
      "execution_count": 24,
      "outputs": [
        {
          "output_type": "execute_result",
          "data": {
            "text/plain": [
              "array([ 0.,  1., -1.])"
            ]
          },
          "metadata": {
            "tags": []
          },
          "execution_count": 24
        }
      ]
    },
    {
      "cell_type": "code",
      "metadata": {
        "colab": {
          "base_uri": "https://localhost:8080/",
          "height": 199
        },
        "id": "2EXd_7bU4QPa",
        "outputId": "5b777b08-82f1-4008-b9df-78163011e618"
      },
      "source": [
        "train.head()"
      ],
      "execution_count": 25,
      "outputs": [
        {
          "output_type": "execute_result",
          "data": {
            "text/html": [
              "<div>\n",
              "<style scoped>\n",
              "    .dataframe tbody tr th:only-of-type {\n",
              "        vertical-align: middle;\n",
              "    }\n",
              "\n",
              "    .dataframe tbody tr th {\n",
              "        vertical-align: top;\n",
              "    }\n",
              "\n",
              "    .dataframe thead th {\n",
              "        text-align: right;\n",
              "    }\n",
              "</style>\n",
              "<table border=\"1\" class=\"dataframe\">\n",
              "  <thead>\n",
              "    <tr style=\"text-align: right;\">\n",
              "      <th></th>\n",
              "      <th>tweet_id</th>\n",
              "      <th>safe_text</th>\n",
              "      <th>label</th>\n",
              "      <th>agreement</th>\n",
              "    </tr>\n",
              "  </thead>\n",
              "  <tbody>\n",
              "    <tr>\n",
              "      <th>0</th>\n",
              "      <td>CL1KWCMY</td>\n",
              "      <td>me   the big homie meanboy3000  meanboy  mb  m...</td>\n",
              "      <td>0.0</td>\n",
              "      <td>1.0</td>\n",
              "    </tr>\n",
              "    <tr>\n",
              "      <th>1</th>\n",
              "      <td>E3303EME</td>\n",
              "      <td>i'm 100% thinking of devoting my career to pro...</td>\n",
              "      <td>1.0</td>\n",
              "      <td>1.0</td>\n",
              "    </tr>\n",
              "    <tr>\n",
              "      <th>2</th>\n",
              "      <td>M4IVFSMS</td>\n",
              "      <td>whatcausesautism vaccines, do not vaccinate yo...</td>\n",
              "      <td>-1.0</td>\n",
              "      <td>1.0</td>\n",
              "    </tr>\n",
              "    <tr>\n",
              "      <th>3</th>\n",
              "      <td>1DR6ROZ4</td>\n",
              "      <td>i mean if they immunize my kid with something ...</td>\n",
              "      <td>-1.0</td>\n",
              "      <td>1.0</td>\n",
              "    </tr>\n",
              "    <tr>\n",
              "      <th>4</th>\n",
              "      <td>J77ENIIE</td>\n",
              "      <td>thanks to   catch me performing at la nuit nyc...</td>\n",
              "      <td>0.0</td>\n",
              "      <td>1.0</td>\n",
              "    </tr>\n",
              "  </tbody>\n",
              "</table>\n",
              "</div>"
            ],
            "text/plain": [
              "   tweet_id  ... agreement\n",
              "0  CL1KWCMY  ...       1.0\n",
              "1  E3303EME  ...       1.0\n",
              "2  M4IVFSMS  ...       1.0\n",
              "3  1DR6ROZ4  ...       1.0\n",
              "4  J77ENIIE  ...       1.0\n",
              "\n",
              "[5 rows x 4 columns]"
            ]
          },
          "metadata": {
            "tags": []
          },
          "execution_count": 25
        }
      ]
    },
    {
      "cell_type": "code",
      "metadata": {
        "id": "lVAl5qhA4Vtm"
      },
      "source": [
        "# max number of words in each sentence\r\n",
        "SEQUENCE_LENGTH = 50\r\n",
        "EMBEDDING_SIZE = 100\r\n",
        "# number of words to use, discarding the rest\r\n",
        "N_WORDS = 10000\r\n",
        "# out of vocabulary token\r\n",
        "OOV_TOKEN = \"<unk>\"\r\n",
        "padding_type = 'post'\r\n",
        "trunc_type = 'post'"
      ],
      "execution_count": 26,
      "outputs": []
    },
    {
      "cell_type": "markdown",
      "metadata": {
        "id": "pFLWzn_j5I1x"
      },
      "source": [
        "## 3. Preprocessing Data\r\n",
        "Link to Learn More About the steps taken below\r\n",
        "https://www.kdnuggets.com/2020/03/tensorflow-keras-tokenization-text-data-prep.html"
      ]
    },
    {
      "cell_type": "markdown",
      "metadata": {
        "id": "41bbDZ-g5oaZ"
      },
      "source": [
        "- Our Labels are within -1 to 1, it should not be less than 1, so we + 1 \r\n",
        "- Convert Labels for a multi classification task using to categorical\r\n",
        "- split our data\r\n",
        "- We Instantiate our tokenizer class to tokenize training data text\r\n",
        "- we pad our tokenized text to ensure  equal lengths\r\n"
      ]
    },
    {
      "cell_type": "code",
      "metadata": {
        "colab": {
          "base_uri": "https://localhost:8080/"
        },
        "id": "-OOfvGz247kE",
        "outputId": "ee835cd9-5786-4428-c416-9db542e3a760"
      },
      "source": [
        "train['label'].value_counts()"
      ],
      "execution_count": 28,
      "outputs": [
        {
          "output_type": "execute_result",
          "data": {
            "text/plain": [
              " 0.0    4908\n",
              " 1.0    4053\n",
              "-1.0    1038\n",
              "Name: label, dtype: int64"
            ]
          },
          "metadata": {
            "tags": []
          },
          "execution_count": 28
        }
      ]
    },
    {
      "cell_type": "code",
      "metadata": {
        "id": "mTQ8lJJD6C6b"
      },
      "source": [
        "X = train['safe_text']\r\n",
        "y = to_categorical(train['label']+1,num_classes=3)"
      ],
      "execution_count": 29,
      "outputs": []
    },
    {
      "cell_type": "code",
      "metadata": {
        "id": "uxOOqbrw6Xdf"
      },
      "source": [
        "X_train,X_val,y_train,y_val = train_test_split(X,y,test_size=0.2)"
      ],
      "execution_count": 30,
      "outputs": []
    },
    {
      "cell_type": "code",
      "metadata": {
        "colab": {
          "base_uri": "https://localhost:8080/"
        },
        "id": "ss4KQGbX6jCr",
        "outputId": "c1d15f86-021f-4fb3-b140-2f3e60105492"
      },
      "source": [
        "print('The Shape of Xraining ',X_train.shape)\r\n",
        "print('The Shape of Validation',X_val.shape)"
      ],
      "execution_count": 31,
      "outputs": [
        {
          "output_type": "stream",
          "text": [
            "The Shape of Xraining  (7999,)\n",
            "The Shape of Validation (2000,)\n"
          ],
          "name": "stdout"
        }
      ]
    },
    {
      "cell_type": "code",
      "metadata": {
        "id": "bBiBKLBx6zO3"
      },
      "source": [
        "tokenizer = Tokenizer(num_words=N_WORDS, oov_token=OOV_TOKEN)\r\n",
        "tokenizer.fit_on_texts(X_train)"
      ],
      "execution_count": 32,
      "outputs": []
    },
    {
      "cell_type": "code",
      "metadata": {
        "id": "KSyIZ92f6rXq"
      },
      "source": [
        "word_index = tokenizer.word_index"
      ],
      "execution_count": 33,
      "outputs": []
    },
    {
      "cell_type": "code",
      "metadata": {
        "colab": {
          "base_uri": "https://localhost:8080/"
        },
        "id": "XubFKrk96-Np",
        "outputId": "9c9fe87b-6db4-4710-e9f9-d43cceab4ffc"
      },
      "source": [
        "print(\"THe first word Index are: \")\r\n",
        "for x in list(word_index)[0:15]:\r\n",
        "    print (\" {},  {} \".format(x,  word_index[x]))"
      ],
      "execution_count": 35,
      "outputs": [
        {
          "output_type": "stream",
          "text": [
            "THe first word Index are: \n",
            " <unk>,  1 \n",
            " the,  2 \n",
            " to,  3 \n",
            " measles,  4 \n",
            " a,  5 \n",
            " of,  6 \n",
            " in,  7 \n",
            " and,  8 \n",
            " vaccine,  9 \n",
            " i,  10 \n",
            " is,  11 \n",
            " for,  12 \n",
            " vaccines,  13 \n",
            " kids,  14 \n",
            " you,  15 \n"
          ],
          "name": "stdout"
        }
      ]
    },
    {
      "cell_type": "code",
      "metadata": {
        "id": "4DqLoFWp7F2g"
      },
      "source": [
        "training_sequences = tokenizer.texts_to_sequences(X_train)\r\n",
        "training_padded = pad_sequences(training_sequences, maxlen=SEQUENCE_LENGTH, padding=padding_type, truncating=trunc_type)"
      ],
      "execution_count": 36,
      "outputs": []
    },
    {
      "cell_type": "code",
      "metadata": {
        "colab": {
          "base_uri": "https://localhost:8080/"
        },
        "id": "U29oW8Db7cyx",
        "outputId": "d5aacd8b-df0b-479d-a147-649e17210cad"
      },
      "source": [
        "print(train.safe_text[1])\r\n",
        "print(training_sequences[1])"
      ],
      "execution_count": 37,
      "outputs": [
        {
          "output_type": "stream",
          "text": [
            "i'm 100% thinking of devoting my career to proving autism isn't caused by vaccines due to the idiotic posts i've seen about world autism day\n",
            "[231, 5667, 243, 31, 1194, 48, 507, 47, 7, 2, 1875, 595, 52, 615, 3857]\n"
          ],
          "name": "stdout"
        }
      ]
    },
    {
      "cell_type": "code",
      "metadata": {
        "id": "NY_yM5e27nPQ"
      },
      "source": [
        "test['safe_text'] = test['safe_text'].astype(str)"
      ],
      "execution_count": 38,
      "outputs": []
    },
    {
      "cell_type": "code",
      "metadata": {
        "id": "lIsL9Lsk7kJ7"
      },
      "source": [
        "val_sequences = tokenizer.texts_to_sequences(X_val)\r\n",
        "val_padded = pad_sequences(val_sequences, maxlen=SEQUENCE_LENGTH, padding=padding_type, truncating=trunc_type)"
      ],
      "execution_count": 39,
      "outputs": []
    },
    {
      "cell_type": "code",
      "metadata": {
        "id": "tTa5H20D7zQY"
      },
      "source": [
        "test_sequences = tokenizer.texts_to_sequences(test['safe_text'])\r\n",
        "test_padded = pad_sequences(test_sequences, maxlen=SEQUENCE_LENGTH, padding=padding_type, truncating=trunc_type)"
      ],
      "execution_count": 40,
      "outputs": []
    },
    {
      "cell_type": "code",
      "metadata": {
        "colab": {
          "base_uri": "https://localhost:8080/"
        },
        "id": "ddbZhYEj75Aw",
        "outputId": "15f164c8-f2d3-42a2-ede2-bc793d8631be"
      },
      "source": [
        "train.isnull().any().sum()"
      ],
      "execution_count": 42,
      "outputs": [
        {
          "output_type": "execute_result",
          "data": {
            "text/plain": [
              "0"
            ]
          },
          "metadata": {
            "tags": []
          },
          "execution_count": 42
        }
      ]
    },
    {
      "cell_type": "markdown",
      "metadata": {
        "id": "0kGtm9qx8KGM"
      },
      "source": [
        "# 4. Creating the Model"
      ]
    },
    {
      "cell_type": "markdown",
      "metadata": {
        "id": "NiiL0Xt48Mod"
      },
      "source": [
        "Our four layers are an embedding layer, our LSTM, and two linear layers."
      ]
    },
    {
      "cell_type": "code",
      "metadata": {
        "id": "eDUwm_P07_VF"
      },
      "source": [
        "optimizer = tf.keras.optimizers.Adam(lr=0.01)\r\n",
        "\r\n",
        "model = tf.keras.Sequential([\r\n",
        "    tf.keras.layers.Embedding(N_WORDS, EMBEDDING_SIZE, input_length=SEQUENCE_LENGTH),\r\n",
        "    tf.keras.layers.Bidirectional(tf.keras.layers.LSTM(64)),\r\n",
        "    tf.keras.layers.Dense(14, activation='relu'),\r\n",
        "    tf.keras.layers.Dense(3,activation='sigmoid')\r\n",
        "])\r\n",
        "model.compile(loss='binary_crossentropy',optimizer=optimizer)"
      ],
      "execution_count": 43,
      "outputs": []
    },
    {
      "cell_type": "code",
      "metadata": {
        "colab": {
          "base_uri": "https://localhost:8080/"
        },
        "id": "mFZV_jz28ZZB",
        "outputId": "c83b8483-3a95-4d53-83f7-c63e50dbe66a"
      },
      "source": [
        "start_time = time.time()\r\n",
        "\r\n",
        "num_epochs = 5\r\n",
        "history = model.fit(training_padded, y_train, epochs=num_epochs, validation_data=(val_padded, y_val))"
      ],
      "execution_count": 44,
      "outputs": [
        {
          "output_type": "stream",
          "text": [
            "Epoch 1/5\n",
            "250/250 [==============================] - 22s 73ms/step - loss: 0.5144 - val_loss: 0.4376\n",
            "Epoch 2/5\n",
            "250/250 [==============================] - 18s 70ms/step - loss: 0.3427 - val_loss: 0.4216\n",
            "Epoch 3/5\n",
            "250/250 [==============================] - 18s 70ms/step - loss: 0.2314 - val_loss: 0.4909\n",
            "Epoch 4/5\n",
            "250/250 [==============================] - 18s 72ms/step - loss: 0.1414 - val_loss: 0.5752\n",
            "Epoch 5/5\n",
            "250/250 [==============================] - 17s 69ms/step - loss: 0.1016 - val_loss: 0.6529\n"
          ],
          "name": "stdout"
        }
      ]
    },
    {
      "cell_type": "code",
      "metadata": {
        "id": "hbAB7HYZ8iAc"
      },
      "source": [
        "pred = model.predict(test_padded)"
      ],
      "execution_count": 45,
      "outputs": []
    },
    {
      "cell_type": "code",
      "metadata": {
        "colab": {
          "base_uri": "https://localhost:8080/"
        },
        "id": "t7XM75B59jIi",
        "outputId": "2171a662-0158-4033-916a-acdec83a43ea"
      },
      "source": [
        "pred"
      ],
      "execution_count": 46,
      "outputs": [
        {
          "output_type": "execute_result",
          "data": {
            "text/plain": [
              "array([[0.40622783, 0.11372766, 0.37694517],\n",
              "       [0.03905478, 0.06687593, 0.9046401 ],\n",
              "       [0.00311112, 0.92495656, 0.07826057],\n",
              "       ...,\n",
              "       [0.0080989 , 0.92474   , 0.08100998],\n",
              "       [0.0059022 , 0.01453698, 0.9827311 ],\n",
              "       [0.00105605, 0.00355968, 0.99649024]], dtype=float32)"
            ]
          },
          "metadata": {
            "tags": []
          },
          "execution_count": 46
        }
      ]
    },
    {
      "cell_type": "markdown",
      "metadata": {
        "id": "af22LWq0-Vw1"
      },
      "source": [
        "# Important Information\r\n",
        "\r\n",
        "we can go ahead and do `test['label'] = np.argmax(pred,axis=1)` for a normal multi classification task, with classification metrics  `accuracy`, but the metric given for the challenge is a root mean squared error metrics hence performance on leaderboard would be bad, so we preprocess our predictions to have values between -1 and 1, better preprocessing can be done to improve scores on leaderboard."
      ]
    },
    {
      "cell_type": "code",
      "metadata": {
        "id": "T6HEZ4oh9n0z"
      },
      "source": [
        "def process_prediction(preds):\r\n",
        "  r'''\r\n",
        "    This function helps us go from a classifiaction\r\n",
        "    problem to a regression one.\r\n",
        "    The regression values range are in [-1, 1].\r\n",
        "  '''\r\n",
        "\r\n",
        "  final_preds = []\r\n",
        "  for pred in preds:\r\n",
        "    argmax = np.argmax(pred, axis=0)\r\n",
        "    if argmax == 0: final_preds.append( -1*pred[0] )\r\n",
        "    elif argmax == 1: final_preds.append( 0 )\r\n",
        "    else: final_preds.append( pred[2] )\r\n",
        "    \r\n",
        "  return final_preds\r\n",
        "\r\n",
        "\r\n",
        "def rmse(true, pred):\r\n",
        "  return np.sqrt(mean_squared_error(true, pred))"
      ],
      "execution_count": 47,
      "outputs": []
    },
    {
      "cell_type": "code",
      "metadata": {
        "id": "hlFHd1oy-fd4"
      },
      "source": [
        "predictions = process_prediction(pred)"
      ],
      "execution_count": 48,
      "outputs": []
    },
    {
      "cell_type": "code",
      "metadata": {
        "id": "4HV2l9uD-kme"
      },
      "source": [
        "test['label'] = predictions"
      ],
      "execution_count": 49,
      "outputs": []
    },
    {
      "cell_type": "code",
      "metadata": {
        "colab": {
          "base_uri": "https://localhost:8080/",
          "height": 199
        },
        "id": "B-9OF7dY-qnj",
        "outputId": "962904b6-9d68-4b05-be8a-f67684434f80"
      },
      "source": [
        "test.head()"
      ],
      "execution_count": 50,
      "outputs": [
        {
          "output_type": "execute_result",
          "data": {
            "text/html": [
              "<div>\n",
              "<style scoped>\n",
              "    .dataframe tbody tr th:only-of-type {\n",
              "        vertical-align: middle;\n",
              "    }\n",
              "\n",
              "    .dataframe tbody tr th {\n",
              "        vertical-align: top;\n",
              "    }\n",
              "\n",
              "    .dataframe thead th {\n",
              "        text-align: right;\n",
              "    }\n",
              "</style>\n",
              "<table border=\"1\" class=\"dataframe\">\n",
              "  <thead>\n",
              "    <tr style=\"text-align: right;\">\n",
              "      <th></th>\n",
              "      <th>tweet_id</th>\n",
              "      <th>safe_text</th>\n",
              "      <th>label</th>\n",
              "    </tr>\n",
              "  </thead>\n",
              "  <tbody>\n",
              "    <tr>\n",
              "      <th>0</th>\n",
              "      <td>00BHHHP1</td>\n",
              "      <td>...   4 a vaccine given 2 healthy peeps, fda t...</td>\n",
              "      <td>-0.406228</td>\n",
              "    </tr>\n",
              "    <tr>\n",
              "      <th>1</th>\n",
              "      <td>00UNMD0E</td>\n",
              "      <td>students starting school without whooping coug...</td>\n",
              "      <td>0.904640</td>\n",
              "    </tr>\n",
              "    <tr>\n",
              "      <th>2</th>\n",
              "      <td>01AXPTJF</td>\n",
              "      <td>i'm kinda over every ep of   being \"ripped fro...</td>\n",
              "      <td>0.000000</td>\n",
              "    </tr>\n",
              "    <tr>\n",
              "      <th>3</th>\n",
              "      <td>01HOEQJW</td>\n",
              "      <td>how many innocent children die for lack of vac...</td>\n",
              "      <td>0.967844</td>\n",
              "    </tr>\n",
              "    <tr>\n",
              "      <th>4</th>\n",
              "      <td>01JUKMAO</td>\n",
              "      <td>cdc eyeing bird flu vaccine for humans, though...</td>\n",
              "      <td>0.676264</td>\n",
              "    </tr>\n",
              "  </tbody>\n",
              "</table>\n",
              "</div>"
            ],
            "text/plain": [
              "   tweet_id                                          safe_text     label\n",
              "0  00BHHHP1  ...   4 a vaccine given 2 healthy peeps, fda t... -0.406228\n",
              "1  00UNMD0E  students starting school without whooping coug...  0.904640\n",
              "2  01AXPTJF  i'm kinda over every ep of   being \"ripped fro...  0.000000\n",
              "3  01HOEQJW  how many innocent children die for lack of vac...  0.967844\n",
              "4  01JUKMAO  cdc eyeing bird flu vaccine for humans, though...  0.676264"
            ]
          },
          "metadata": {
            "tags": []
          },
          "execution_count": 50
        }
      ]
    },
    {
      "cell_type": "code",
      "metadata": {
        "id": "UTpKuxND-3AS"
      },
      "source": [
        "test[['tweet_id','label']].to_csv('submissions.csv',index=False)"
      ],
      "execution_count": 51,
      "outputs": []
    },
    {
      "cell_type": "markdown",
      "metadata": {
        "id": "zLqUKlyrCJME"
      },
      "source": [
        "## Some useful Insights\r\n",
        "- The Text Cleaning done here is vanilla, you can do a lot them\r\n",
        "- use a pretrained word embeddings e.g **Glove** \r\n",
        "- Try out the Transformer Architecture, or Use a Pretrained Transformer Architecture\r\n",
        "- Tweak Neural Network Parameters\r\n",
        "- increase no of epoch"
      ]
    },
    {
      "cell_type": "code",
      "metadata": {
        "id": "AW_maHoyCCot"
      },
      "source": [
        ""
      ],
      "execution_count": null,
      "outputs": []
    }
  ]
}